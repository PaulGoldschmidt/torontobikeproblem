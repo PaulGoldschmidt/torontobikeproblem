{
 "cells": [
  {
   "attachments": {},
   "cell_type": "markdown",
   "id": "831a6711-1215-4cd1-9d39-0242ef9dcd90",
   "metadata": {},
   "source": [
    "# Project 1 - Locations of charging stations for battery electric vehicles."
   ]
  },
  {
   "attachments": {},
   "cell_type": "markdown",
   "id": "f7e054e6-a7f6-41f1-99b7-c14b45ab91cd",
   "metadata": {
    "tags": []
   },
   "source": [
    "## Introduction to the project"
   ]
  },
  {
   "attachments": {},
   "cell_type": "markdown",
   "id": "3407c00a-deb6-47d2-be13-470d163bdcf4",
   "metadata": {
    "tags": []
   },
   "source": [
    "### Objective"
   ]
  },
  {
   "attachments": {},
   "cell_type": "markdown",
   "id": "8eb2c7a1-d608-40e9-9d49-c32678535142",
   "metadata": {
    "tags": []
   },
   "source": [
    "### Data set"
   ]
  },
  {
   "attachments": {},
   "cell_type": "markdown",
   "id": "bff53157-e1f9-4471-83c3-84360401f6b2",
   "metadata": {
    "tags": []
   },
   "source": [
    "#### Index sets"
   ]
  },
  {
   "attachments": {},
   "cell_type": "markdown",
   "id": "b25f6478-705e-4893-9865-fe48e1b6dc15",
   "metadata": {},
   "source": [
    "$dis\\_idx \\in DIS\\_IDX$: Index and set of districts.\n",
    "\n",
    "$fs\\_idx \\in FS\\_IDX = [0, N\\_FIXED]$: Index and set of fixed rental stations.\n",
    "\n",
    "$ds\\_idx \\in DS\\_IDX = [0,N\\_DYNAMIC*3]$: Index and set of dynamic rental stations.\n",
    "\n",
    "$s\\_idx \\in S\\_IDX = fs\\_idx \\cup ds\\_idx$: Index and set of dynamic rental stations.\n",
    "\n",
    "\n",
    "$\\quad \\forall ds\\_idx \\in DS\\_IDX$: Type of $ds\\_idx$ = $ds\\_idx$ // $N\\_DYNAMIC$ (0:'small', 1:'medium', 2:'large')\n",
    "\n",
    "$\\quad \\forall ds\\_idx \\in DS\\_IDX$: Position of $ds\\_idx$ = $ds\\_idx$ % $N\\_DYNAMIC$.\n",
    "\n"
   ]
  },
  {
   "attachments": {},
   "cell_type": "markdown",
   "id": "b5ab2152-3720-4077-b390-6b8b80e21e41",
   "metadata": {
    "tags": []
   },
   "source": [
    "#### Parameters"
   ]
  },
  {
   "attachments": {},
   "cell_type": "markdown",
   "id": "494ceed0-ef7d-43e8-a41c-f7853da0b444",
   "metadata": {},
   "source": [
    "$demand_{dis\\_idx} \\in \\mathbb{R}^+$: Demand for stations in district $dis\\_idx$.\n",
    "\n",
    "$\\text{costS} = 10$: Cost of building a small station.\n",
    "\n",
    "$\\text{costM} = 20$: Cost of building a medium station.\n",
    "\n",
    "$\\text{costL} = 50$: Cost of building a large station.\n",
    "\n",
    "$capS= 10$: Number of bikes for a small station.\n",
    " \n",
    "$capM = 30$: Number of bikes for a medium station.\n",
    "\n",
    "$capL = 100$: Number of bikes for a large station."
   ]
  },
  {
   "attachments": {},
   "cell_type": "markdown",
   "id": "81d4f791-9a5b-431b-a7b8-8efb64bab946",
   "metadata": {},
   "source": [
    "#### Decision variables"
   ]
  },
  {
   "attachments": {},
   "cell_type": "markdown",
   "id": "310c8ca9-c74e-4b8a-9946-fe3f70484fa2",
   "metadata": {},
   "source": [
    "$ysmall_{ds\\_idx} \\in \\{0, 1 \\}$: 1 if small station built at position of $ds\\_idx$; otherwise 0.\n",
    "\n",
    "$ymed_{ds\\_idx} \\in \\{0, 1 \\}$: 1 if medium station built at position of $ds\\_idx$; otherwise 0.\n",
    "\n",
    "$ylarge_{ds\\_idx} \\in \\{0, 1 \\}$: 1 if large station built at position of $ds\\_idx$; otherwise 0.\n",
    "\n",
    "$x_{s\\_idx,dis\\_idx} \\in \\mathbb{R}^+$: Amount of the district's $dis\\_idx$ demand met by rental station $s\\_idx$. "
   ]
  },
  {
   "attachments": {},
   "cell_type": "markdown",
   "id": "b5509f60-b839-4e28-bd67-d9a84e2c374d",
   "metadata": {},
   "source": [
    "#### Objective function"
   ]
  },
  {
   "attachments": {},
   "cell_type": "markdown",
   "id": "fc019597-b72e-4046-8eeb-301b6fdcde10",
   "metadata": {},
   "source": [
    "- **Costs**. Minimize investment costs.\n",
    " \n",
    "\n",
    "\\begin{equation}\n",
    "\\text{Min} \\quad CostTarget = \n",
    "\\text{costS}\\sum_{i = 0}^{N\\_DYNAMIC} ysmall_i + \\text{costM}\\sum_{i = N\\_DYNAMIC}^{N\\_DYNAMIC * 2} ymed_i + \\text{costL}\\sum_{i = N\\_DYNAMIC * 2}^{N\\_DYNAMIC * 3} ylarge_i\n",
    "\\tag{0}\n",
    "\\end{equation}\n",
    "\n",
    "\n",
    "- **Distance**. Minimize Distance from District to Stations supplying their demand.\n",
    "\\begin{equation}\n",
    "\\text{Min} \\quad DistanceTarget = \\sum_{s\\_idx \\in S\\_IDX} \\sum_{dis\\_idx \\in DIX\\_IDX} x_{s\\_idx, dis\\_idx} * ||pos(s\\_idx) - pos(dis\\_idx)||\n",
    "\\tag{1}\n",
    "\\end{equation}\n",
    "\n",
    "\n",
    "- **Combined**. Combine Targets.\n",
    "\\begin{equation}\n",
    "\\text{Min} \\quad T = w1*CostTarget + w2*DistanceTarget\n",
    "\\end{equation}"
   ]
  },
  {
   "attachments": {},
   "cell_type": "markdown",
   "id": "a1c21d2b-ce16-46d5-b2be-1a3a2ea3c841",
   "metadata": {},
   "source": [
    "#### Constraints"
   ]
  },
  {
   "attachments": {},
   "cell_type": "markdown",
   "id": "865d8b86-f67f-443c-90b3-6dd747b51e3b",
   "metadata": {},
   "source": [
    "- **Demand**. The complete demand of a district $dis\\_idx$ should be met.\n",
    "\n",
    "\\begin{equation}\n",
    "\\sum_{s\\_idx  \\in  S\\_IDX} x_{s\\_idx,dis\\_idx} = demand_{dis\\_idx} \\quad \\forall dis\\_idx \\in DIS\\_IDX\n",
    "\\tag{1}\n",
    "\\end{equation}\n",
    "\n",
    "- **Capacity**. Capacity of stations cannot be exceeded. \n",
    "\\begin{equation}\n",
    "\\sum_{dis\\_idx \\in DIS\\_IDX} x_{s\\_idx,dis\\_idx} \\leq ysmall_{s\\_idx}*capS + ymed_{s\\_idx}*capM + ylarge_{s\\_idx}*capL  \\quad \\forall s\\_idx \\in S\\_IDX\n",
    "\\tag{2}\n",
    "\\end{equation}\n",
    "\n",
    "- **Physics**. At every possible location $ds\\_idx$ a maximum of one charging station can be built. \n",
    "\n",
    "\\begin{equation}\n",
    "ysmall_{ds\\_idx} + ymed_{ds\\_idx} + ylarge_{ds\\_idx} \\leq 1 \\quad \\forall ds\\_idx \\in DS\\_IDX\n",
    "\\tag{3}\n",
    "\\end{equation}"
   ]
  },
  {
   "attachments": {},
   "cell_type": "markdown",
   "id": "b55c7ed9",
   "metadata": {},
   "source": [
    "# Implementation"
   ]
  },
  {
   "cell_type": "code",
   "execution_count": 1,
   "id": "9b3fd3cf-9ad6-48d2-8cd3-06b660346d59",
   "metadata": {},
   "outputs": [],
   "source": [
    "from math import sqrt\n",
    "import ipywidgets as widgets\n",
    "import gurobipy as gp\n",
    "from gurobipy import GRB\n",
    "import pandas as pd\n",
    "import numpy as np\n",
    "import plotly.express as px\n",
    "import plotly.graph_objects as go"
   ]
  },
  {
   "cell_type": "code",
   "execution_count": 2,
   "id": "3cf1fce0",
   "metadata": {},
   "outputs": [],
   "source": [
    "# repeatedly defining widgets breaks correspendence between widgets and their values\n",
    "try:\n",
    "    allwidgets\n",
    "except NameError:\n",
    "    n_dynamic_slider = widgets.IntSlider(30, min=5, max=50, step=1, description='n dynamic')\n",
    "    costs_box = widgets.HBox([widgets.IntText(5, description='cost small'), widgets.IntText(10, description='cost medium'), widgets.IntText(40, description='cost large')])\n",
    "    capacities_box = widgets.HBox([widgets.IntText(5, description='capacity small'), widgets.IntText(15, description='capacity medium'), widgets.IntText(50, description='capacity large')])\n",
    "    lossweighting_box = widgets.HBox([widgets.FloatText(0.5, description='loss weight 1'), widgets.FloatText(0.5, description='loss weight 2')])\n",
    "    demandModifier_box = widgets.FloatSlider(1.3, min=0.5, max=2.9, step=0.1, description='demand modifier')\n",
    "    date_selector = widgets.HBox([widgets.IntText(1, description='day'), widgets.IntText(1, description='month'), widgets.IntText(2019, description='year')])\n",
    "    allwidgets = widgets.VBox([n_dynamic_slider, date_selector, costs_box, capacities_box, lossweighting_box, demandModifier_box])"
   ]
  },
  {
   "cell_type": "code",
   "execution_count": 3,
   "id": "9901bcbd",
   "metadata": {},
   "outputs": [],
   "source": [
    "def prep_data(dis_trunc, fs_trunc, n_dynamic):\n",
    "    date = \"/\".join(map(lambda x: \"0\"+str(x.value) if x.value<10 else str(x.value), date_selector.children))\n",
    "    # fixed stations\n",
    "    coords = pd.read_csv(\"koordinaten.csv\").drop(columns=\"Station\").rename(columns={\"Terminal\": \"Station\"})\n",
    "    df_fs = pd.read_csv(\"station_demand_per_day.csv\", low_memory=False)\n",
    "    df_fs[\"Station\"] = pd.to_numeric(df_fs[\"Station\"], errors=\"coerce\", downcast=\"integer\")\n",
    "    df_fs = pd.merge(df_fs, coords, on=\"Station\")\n",
    "    df_fs = df_fs.where(df_fs[\"Day\"] == date).dropna().drop(columns=[\"Day\", \"Docks\", \"Demand\"])\n",
    "    df_fs.rename(columns={\"Longitude\": \"Lon\", \"Latitude\": \"Lat\"}, inplace=True)\n",
    "    df_fs[\"Station\"] = range(len(df_fs))\n",
    "    # districts\n",
    "    zipcoords = pd.read_csv(\"zipcoords.csv\", header=None, names=[\"District\", \"Lat\", \"Lon\"])\n",
    "    df_dis = pd.merge(pd.read_csv(\"district_demand_per_day.csv\"), zipcoords, on=\"District\")\n",
    "    df_dis = df_dis.where(df_dis[\"Day\"] == date).dropna().drop(columns=[\"Day\"])\n",
    "    # dynamic stations\n",
    "    df_ds = pd.DataFrame(columns=[\"Station\", \"Lat\", \"Lon\"])\n",
    "    for i in range(n_dynamic):\n",
    "        df_ds.loc[i] = [int(i), np.random.uniform(*df_dis[\"Lat\"].agg([\"min\", \"max\"])), np.random.uniform(*df_dis[\"Lon\"].agg([\"min\", \"max\"]))]\n",
    "    df_ds[\"Station\"] = pd.to_numeric(df_ds[\"Station\"], errors=\"coerce\", downcast=\"integer\")\n",
    "\n",
    "    # truncate to fit license restrictions\n",
    "    return df_dis.head(dis_trunc), df_fs.head(fs_trunc), df_ds"
   ]
  },
  {
   "cell_type": "code",
   "execution_count": 4,
   "id": "1dac7a41",
   "metadata": {},
   "outputs": [],
   "source": [
    "def draw_built_stations(solution, df_dis, df_fs, df_ds):\n",
    "    typed_ds = df_ds.copy()\n",
    "    typed_ds[\"Type\"] = solution[\"stations built\"].map({\n",
    "        0:\"Ignored\",\n",
    "        1: \"Built Small\",\n",
    "        2: \"Built Medium\",\n",
    "        3: \"Built Large\"\n",
    "    })\n",
    "    typed_fixed = df_fs.copy()\n",
    "    typed_fixed[\"Type\"] = \"Prebuilt\"\n",
    "    typed_distr = df_dis.copy()\n",
    "    typed_distr[\"Type\"] = \"District\"\n",
    "    # create scatter trace for nodes\n",
    "    return px.scatter_mapbox(pd.concat([typed_ds, typed_fixed, typed_distr]), lat=\"Lat\", lon=\"Lon\", color=\"Type\",color_discrete_map={\n",
    "            \"Ignored\": \"black\",\n",
    "            \"Prebuilt\": \"orange\",\n",
    "            \"Built Small\": \"lightgreen\",\n",
    "            \"Built Medium\": \"green\",\n",
    "            \"Built Large\": \"darkgreen\",\n",
    "            \"District\": \"blue\"}, mapbox_style='open-street-map', zoom=11, center={\"lat\": df_dis[\"Lat\"].mean(), \"lon\": df_dis[\"Lon\"].mean()})\n"
   ]
  },
  {
   "cell_type": "code",
   "execution_count": 5,
   "id": "2d63b801",
   "metadata": {},
   "outputs": [],
   "source": [
    "def solve(df_dis, df_fs, df_ds):\n",
    "    \"\"\"Solve MILP of station assignment.\n",
    "\n",
    "    Args:\n",
    "        df_dis: dataframe with districts and demand\n",
    "        df_fs: dataframe with fixed stations \n",
    "        df_ds: dataframe with dynamic stations\n",
    "\n",
    "    Returns:\n",
    "        output dict: Solution of the MILP\n",
    "    \"\"\"\n",
    "    # Costs\n",
    "    costS, costM, costL = list(map(lambda x: x.value, costs_box.children))\n",
    "\n",
    "    # Capacities\n",
    "    capS, capM, capL = list(map(lambda x: x.value, capacities_box.children))\n",
    "\n",
    "    demandModifier = demandModifier_box.value\n",
    "\n",
    "    fs = {s:(x,y) for _, (s,x,y) in df_fs.iterrows()}\n",
    "    ds = {s:(x,y) for _, (s,x,y) in df_ds.iterrows()}\n",
    "\n",
    "    # district to coord\n",
    "    distr = {d:(x,y) for _, (d,x,y,_) in df_dis.iterrows()}\n",
    "\n",
    "    # station to capacity (fixed for now, didn't find data @dataacquisition O.o)\n",
    "    capacity = {s:capM for _, (s,_,_) in df_fs.iterrows()}\n",
    "    \n",
    "\n",
    "    # district to demand\n",
    "    demand = {d:dem*demandModifier for _, (d,dem,_,_) in df_dis.iterrows()}\n",
    "\n",
    "    n_fixed = len(df_fs)\n",
    "    n_dynamic = len(df_ds)\n",
    "\n",
    "    # Loss weighting\n",
    "    w1, w2 = list(map(lambda x: x.value, lossweighting_box.children))\n",
    "\n",
    "    # Calculation of the distances between the districts and the locations of the charging stations\n",
    "    dists_fix = {}\n",
    "    for d_i, d_v in distr.items():\n",
    "        for s_i, s_v in fs.items():\n",
    "            dists_fix[(d_i, s_i)] = sqrt((d_v[0] - s_v[0])**2 + (d_v[1] - s_v[1])**2)\n",
    "\n",
    "    dists_dyn = {}\n",
    "    for d_i, d_v in distr.items():\n",
    "        for s_i, s_v in ds.items():\n",
    "            dists_dyn[(d_i, s_i)] = sqrt((d_v[0] - s_v[0])**2 + (d_v[1] - s_v[1])**2)\n",
    "\n",
    "    #####################################################\n",
    "    #               MILP Model Formulation              #\n",
    "    #####################################################\n",
    "\n",
    "    # Model\n",
    "    m = gp.Model('eval_rental_positions')\n",
    "\n",
    "    # Decision variables\n",
    "    offsetidx = [range(0, n_dynamic), range(n_dynamic, n_dynamic*2), range(n_dynamic*2, n_dynamic*3)]\n",
    "    ys = m.addVars(offsetidx[0], vtype=GRB.BINARY, name='small')\n",
    "    ym = m.addVars(offsetidx[1], vtype=GRB.BINARY, name='medium')\n",
    "    yl = m.addVars(offsetidx[2], vtype=GRB.BINARY, name='large')\n",
    "\n",
    "    # Parameter\n",
    "    xdyn = m.addVars(dists_dyn.keys(), vtype=GRB.CONTINUOUS, name='AssignDyn', lb=0)\n",
    "    xfix = m.addVars(dists_fix.keys(), vtype=GRB.CONTINUOUS, name='AssignFix', lb=0)\n",
    "\n",
    "    # Objective function\n",
    "    m.setObjective(\n",
    "        w1 * (costS * gp.quicksum(ys[i] for i in offsetidx[0]) + costM * gp.quicksum(ym[i] for i in offsetidx[1]) + costL * gp.quicksum(yl[i] for i in offsetidx[2])) \n",
    "        +\n",
    "        gp.quicksum(w2 * xdyn[(i,j)]*dists_dyn[(i,j)] for i in distr.keys() for j in range(n_dynamic)) \n",
    "        +\n",
    "        gp.quicksum(w2 * xfix[(i,j)]*dists_fix[(i,j)] for i in distr.keys() for j in range(n_fixed))\n",
    "        ,\n",
    "        GRB.MINIMIZE\n",
    "    )\n",
    "    # dynamic and fixed stations supply all demand\n",
    "    m.addConstrs((gp.quicksum(xdyn[(d,j)] for j in range(n_dynamic)) + gp.quicksum(xfix[(d,j)] for j in range(n_fixed)) >= demand[d] for d in distr.keys()), name=\"demandConstr\")\n",
    "    # dynamic stations have enough capacity\n",
    "    m.addConstrs((gp.quicksum(xdyn[(d,i)] for d in distr.keys()) <= ys[i]*capS + ym[j]*capM + yl[k]*capL for (i,j,k) in zip(*offsetidx)), name=\"capacityFixConstr\")\n",
    "    # fixed stations have enough capacity\n",
    "    m.addConstrs((gp.quicksum(xfix[(i,j)] for i in distr.keys()) <= capacity[j] for j in range(n_fixed)), name=\"capacityDynConstr\")\n",
    "    # max one station per location\n",
    "    m.addConstrs((ys[i] + ym[j] + yl[k] <= 1 for (i,j,k) in zip(*offsetidx)), name=\"PhysicsConstr\")\n",
    "\n",
    "    # non verbose\n",
    "    m.setParam('OutputFlag', 0)\n",
    "    m.optimize()\n",
    "    if m.status == GRB.INFEASIBLE:\n",
    "        raise Exception(\"Infeasible model\")\n",
    "    stations_built = pd.Series(df_ds.index).apply(lambda x: ys[x].X+2*ym[x+n_dynamic].X+3*yl[x+2*n_dynamic].X)\n",
    "    getvals = lambda x: {k: v.x for k, v in x.items() if v.x > 0}\n",
    "    return {\n",
    "        \"status\": m.status,\n",
    "        \"objective function\": m.objVal,\n",
    "        \"runtime\": m.Runtime,\n",
    "        \"demand to satisfy\": sum(demand.values()) - sum(capacity.values()),\n",
    "        \"new supply built\": sum(ys[i].x*capS + ym[j].x*capM + yl[k].x*capL for (i,j,k) in zip(*offsetidx)),\n",
    "        \"dynamic assignment\": getvals(xdyn),\n",
    "        \"fixed assignment\": getvals(xfix),\n",
    "        \"stations built\": stations_built,\n",
    "    }"
   ]
  },
  {
   "cell_type": "code",
   "execution_count": 6,
   "id": "9385e510",
   "metadata": {},
   "outputs": [
    {
     "data": {
      "application/vnd.jupyter.widget-view+json": {
       "model_id": "a613eb266a4f415f873318aa1a6f5b82",
       "version_major": 2,
       "version_minor": 0
      },
      "text/plain": [
       "VBox(children=(IntSlider(value=30, description='n dynamic', max=50, min=5), HBox(children=(IntText(value=1, de…"
      ]
     },
     "metadata": {},
     "output_type": "display_data"
    }
   ],
   "source": [
    "display(allwidgets)"
   ]
  },
  {
   "cell_type": "code",
   "execution_count": 7,
   "id": "34ed257c",
   "metadata": {},
   "outputs": [
    {
     "name": "stdout",
     "output_type": "stream",
     "text": [
      "Restricted license - for non-production use only - expires 2024-10-28\n"
     ]
    },
    {
     "data": {
      "application/vnd.plotly.v1+json": {
       "config": {
        "plotlyServerURL": "https://plot.ly"
       },
       "data": [
        {
         "hovertemplate": "Type=Built Medium<br>Lat=%{lat}<br>Lon=%{lon}<extra></extra>",
         "lat": [
          43.668430137861286,
          43.64011270581261,
          43.644169673126214,
          43.66681746521812,
          43.6665344359136,
          43.65703587760823,
          43.65882210196052,
          43.656216159983714,
          43.65370060919386,
          43.6503123966363,
          43.666713316283996,
          43.63839213976852,
          43.648485335129934,
          43.654130191993424,
          43.642330233767005,
          43.64870900510663,
          43.64394650853442,
          43.63438040255335
         ],
         "legendgroup": "Built Medium",
         "lon": [
          -79.38842167208375,
          -79.38933746352643,
          -79.39468279308774,
          -79.40968617331289,
          -79.3977215946357,
          -79.3984128076022,
          -79.39316651714059,
          -79.3920360172731,
          -79.39332517927642,
          -79.40382627115575,
          -79.4155314532725,
          -79.41365834121059,
          -79.4121946229508,
          -79.41045515277293,
          -79.39337450527162,
          -79.40825572094029,
          -79.39336652009003,
          -79.4041787472583
         ],
         "marker": {
          "color": "green"
         },
         "mode": "markers",
         "name": "Built Medium",
         "showlegend": true,
         "subplot": "mapbox",
         "type": "scattermapbox"
        },
        {
         "hovertemplate": "Type=Built Large<br>Lat=%{lat}<br>Lon=%{lon}<extra></extra>",
         "lat": [
          43.64726322817248,
          43.6621064593658,
          43.64464270489088,
          43.66198664982161,
          43.6572997524366,
          43.650575080100595,
          43.637307275573356,
          43.66513973801988,
          43.66358705166743,
          43.66716456773923
         ],
         "legendgroup": "Built Large",
         "lon": [
          -79.37067370021457,
          -79.3750769090682,
          -79.38501032547673,
          -79.36534751552539,
          -79.3800147838538,
          -79.37530432537714,
          -79.36739831930987,
          -79.38003213913363,
          -79.37390085023024,
          -79.3677449517611
         ],
         "marker": {
          "color": "darkgreen"
         },
         "mode": "markers",
         "name": "Built Large",
         "showlegend": true,
         "subplot": "mapbox",
         "type": "scattermapbox"
        },
        {
         "hovertemplate": "Type=Ignored<br>Lat=%{lat}<br>Lon=%{lon}<extra></extra>",
         "lat": [
          43.662915836437406
         ],
         "legendgroup": "Ignored",
         "lon": [
          -79.41702754298863
         ],
         "marker": {
          "color": "black"
         },
         "mode": "markers",
         "name": "Ignored",
         "showlegend": true,
         "subplot": "mapbox",
         "type": "scattermapbox"
        },
        {
         "hovertemplate": "Type=Built Small<br>Lat=%{lat}<br>Lon=%{lon}<extra></extra>",
         "lat": [
          43.65800404239214
         ],
         "legendgroup": "Built Small",
         "lon": [
          -79.41674495874383
         ],
         "marker": {
          "color": "lightgreen"
         },
         "mode": "markers",
         "name": "Built Small",
         "showlegend": true,
         "subplot": "mapbox",
         "type": "scattermapbox"
        },
        {
         "hovertemplate": "Type=Prebuilt<br>Lat=%{lat}<br>Lon=%{lon}<extra></extra>",
         "lat": [
          43.653264,
          43.664953,
          43.66207,
          43.64656,
          43.656152,
          43.656729,
          43.669192,
          43.6354,
          43.645533,
          43.659575,
          43.656094,
          43.657763,
          43.671293,
          43.6636,
          43.645323,
          43.641529,
          43.64534,
          43.661149,
          43.652823,
          43.6582,
          43.668327,
          43.665527,
          43.644524,
          43.639832,
          43.648093
         ],
         "legendgroup": "Prebuilt",
         "lon": [
          -79.382458,
          -79.384423,
          -79.37617,
          -79.375274,
          -79.385225,
          -79.382736,
          -79.379128,
          -79.3984,
          -79.3854,
          -79.365769,
          -79.381484,
          -79.389165,
          -79.380471,
          -79.3806,
          -79.395003,
          -79.386741,
          -79.409597,
          -79.366648,
          -79.393388,
          -79.3768,
          -79.39355,
          -79.387499,
          -79.416519,
          -79.395954,
          -79.384749
         ],
         "marker": {
          "color": "orange"
         },
         "mode": "markers",
         "name": "Prebuilt",
         "showlegend": true,
         "subplot": "mapbox",
         "type": "scattermapbox"
        },
        {
         "hovertemplate": "Type=District<br>Lat=%{lat}<br>Lon=%{lon}<extra></extra>",
         "lat": [
          43.6543,
          43.6678,
          43.6604,
          43.6465,
          43.6582,
          43.6574,
          43.6721,
          43.6341,
          43.6455,
          43.6621,
          43.6607,
          43.646,
          43.6405,
          43.6438,
          43.6506,
          43.6577,
          43.6699,
          43.6649,
          43.6407,
          43.6408,
          43.6505,
          43.6615,
          43.6496,
          43.6482,
          43.6563,
          43.6677,
          43.6503,
          43.6416,
          43.6454,
          43.6623
         ],
         "legendgroup": "District",
         "lon": [
          -79.3816,
          -79.3848,
          -79.3787,
          -79.3752,
          -79.3859,
          -79.3817,
          -79.3786,
          -79.3995,
          -79.3831,
          -79.367,
          -79.3903,
          -79.3923,
          -79.3888,
          -79.4067,
          -79.395,
          -79.3786,
          -79.3931,
          -79.3873,
          -79.4147,
          -79.3979,
          -79.3846,
          -79.3963,
          -79.3956,
          -79.3798,
          -79.4084,
          -79.3749,
          -79.3717,
          -79.3975,
          -79.3884,
          -79.3895
         ],
         "marker": {
          "color": "blue"
         },
         "mode": "markers",
         "name": "District",
         "showlegend": true,
         "subplot": "mapbox",
         "type": "scattermapbox"
        }
       ],
       "layout": {
        "legend": {
         "title": {
          "text": "Type"
         },
         "tracegroupgap": 0
        },
        "mapbox": {
         "center": {
          "lat": 43.65358,
          "lon": -79.38825
         },
         "domain": {
          "x": [
           0,
           1
          ],
          "y": [
           0,
           1
          ]
         },
         "style": "open-street-map",
         "zoom": 11
        },
        "margin": {
         "t": 60
        },
        "template": {
         "data": {
          "bar": [
           {
            "error_x": {
             "color": "#2a3f5f"
            },
            "error_y": {
             "color": "#2a3f5f"
            },
            "marker": {
             "line": {
              "color": "#E5ECF6",
              "width": 0.5
             },
             "pattern": {
              "fillmode": "overlay",
              "size": 10,
              "solidity": 0.2
             }
            },
            "type": "bar"
           }
          ],
          "barpolar": [
           {
            "marker": {
             "line": {
              "color": "#E5ECF6",
              "width": 0.5
             },
             "pattern": {
              "fillmode": "overlay",
              "size": 10,
              "solidity": 0.2
             }
            },
            "type": "barpolar"
           }
          ],
          "carpet": [
           {
            "aaxis": {
             "endlinecolor": "#2a3f5f",
             "gridcolor": "white",
             "linecolor": "white",
             "minorgridcolor": "white",
             "startlinecolor": "#2a3f5f"
            },
            "baxis": {
             "endlinecolor": "#2a3f5f",
             "gridcolor": "white",
             "linecolor": "white",
             "minorgridcolor": "white",
             "startlinecolor": "#2a3f5f"
            },
            "type": "carpet"
           }
          ],
          "choropleth": [
           {
            "colorbar": {
             "outlinewidth": 0,
             "ticks": ""
            },
            "type": "choropleth"
           }
          ],
          "contour": [
           {
            "colorbar": {
             "outlinewidth": 0,
             "ticks": ""
            },
            "colorscale": [
             [
              0,
              "#0d0887"
             ],
             [
              0.1111111111111111,
              "#46039f"
             ],
             [
              0.2222222222222222,
              "#7201a8"
             ],
             [
              0.3333333333333333,
              "#9c179e"
             ],
             [
              0.4444444444444444,
              "#bd3786"
             ],
             [
              0.5555555555555556,
              "#d8576b"
             ],
             [
              0.6666666666666666,
              "#ed7953"
             ],
             [
              0.7777777777777778,
              "#fb9f3a"
             ],
             [
              0.8888888888888888,
              "#fdca26"
             ],
             [
              1,
              "#f0f921"
             ]
            ],
            "type": "contour"
           }
          ],
          "contourcarpet": [
           {
            "colorbar": {
             "outlinewidth": 0,
             "ticks": ""
            },
            "type": "contourcarpet"
           }
          ],
          "heatmap": [
           {
            "colorbar": {
             "outlinewidth": 0,
             "ticks": ""
            },
            "colorscale": [
             [
              0,
              "#0d0887"
             ],
             [
              0.1111111111111111,
              "#46039f"
             ],
             [
              0.2222222222222222,
              "#7201a8"
             ],
             [
              0.3333333333333333,
              "#9c179e"
             ],
             [
              0.4444444444444444,
              "#bd3786"
             ],
             [
              0.5555555555555556,
              "#d8576b"
             ],
             [
              0.6666666666666666,
              "#ed7953"
             ],
             [
              0.7777777777777778,
              "#fb9f3a"
             ],
             [
              0.8888888888888888,
              "#fdca26"
             ],
             [
              1,
              "#f0f921"
             ]
            ],
            "type": "heatmap"
           }
          ],
          "heatmapgl": [
           {
            "colorbar": {
             "outlinewidth": 0,
             "ticks": ""
            },
            "colorscale": [
             [
              0,
              "#0d0887"
             ],
             [
              0.1111111111111111,
              "#46039f"
             ],
             [
              0.2222222222222222,
              "#7201a8"
             ],
             [
              0.3333333333333333,
              "#9c179e"
             ],
             [
              0.4444444444444444,
              "#bd3786"
             ],
             [
              0.5555555555555556,
              "#d8576b"
             ],
             [
              0.6666666666666666,
              "#ed7953"
             ],
             [
              0.7777777777777778,
              "#fb9f3a"
             ],
             [
              0.8888888888888888,
              "#fdca26"
             ],
             [
              1,
              "#f0f921"
             ]
            ],
            "type": "heatmapgl"
           }
          ],
          "histogram": [
           {
            "marker": {
             "pattern": {
              "fillmode": "overlay",
              "size": 10,
              "solidity": 0.2
             }
            },
            "type": "histogram"
           }
          ],
          "histogram2d": [
           {
            "colorbar": {
             "outlinewidth": 0,
             "ticks": ""
            },
            "colorscale": [
             [
              0,
              "#0d0887"
             ],
             [
              0.1111111111111111,
              "#46039f"
             ],
             [
              0.2222222222222222,
              "#7201a8"
             ],
             [
              0.3333333333333333,
              "#9c179e"
             ],
             [
              0.4444444444444444,
              "#bd3786"
             ],
             [
              0.5555555555555556,
              "#d8576b"
             ],
             [
              0.6666666666666666,
              "#ed7953"
             ],
             [
              0.7777777777777778,
              "#fb9f3a"
             ],
             [
              0.8888888888888888,
              "#fdca26"
             ],
             [
              1,
              "#f0f921"
             ]
            ],
            "type": "histogram2d"
           }
          ],
          "histogram2dcontour": [
           {
            "colorbar": {
             "outlinewidth": 0,
             "ticks": ""
            },
            "colorscale": [
             [
              0,
              "#0d0887"
             ],
             [
              0.1111111111111111,
              "#46039f"
             ],
             [
              0.2222222222222222,
              "#7201a8"
             ],
             [
              0.3333333333333333,
              "#9c179e"
             ],
             [
              0.4444444444444444,
              "#bd3786"
             ],
             [
              0.5555555555555556,
              "#d8576b"
             ],
             [
              0.6666666666666666,
              "#ed7953"
             ],
             [
              0.7777777777777778,
              "#fb9f3a"
             ],
             [
              0.8888888888888888,
              "#fdca26"
             ],
             [
              1,
              "#f0f921"
             ]
            ],
            "type": "histogram2dcontour"
           }
          ],
          "mesh3d": [
           {
            "colorbar": {
             "outlinewidth": 0,
             "ticks": ""
            },
            "type": "mesh3d"
           }
          ],
          "parcoords": [
           {
            "line": {
             "colorbar": {
              "outlinewidth": 0,
              "ticks": ""
             }
            },
            "type": "parcoords"
           }
          ],
          "pie": [
           {
            "automargin": true,
            "type": "pie"
           }
          ],
          "scatter": [
           {
            "fillpattern": {
             "fillmode": "overlay",
             "size": 10,
             "solidity": 0.2
            },
            "type": "scatter"
           }
          ],
          "scatter3d": [
           {
            "line": {
             "colorbar": {
              "outlinewidth": 0,
              "ticks": ""
             }
            },
            "marker": {
             "colorbar": {
              "outlinewidth": 0,
              "ticks": ""
             }
            },
            "type": "scatter3d"
           }
          ],
          "scattercarpet": [
           {
            "marker": {
             "colorbar": {
              "outlinewidth": 0,
              "ticks": ""
             }
            },
            "type": "scattercarpet"
           }
          ],
          "scattergeo": [
           {
            "marker": {
             "colorbar": {
              "outlinewidth": 0,
              "ticks": ""
             }
            },
            "type": "scattergeo"
           }
          ],
          "scattergl": [
           {
            "marker": {
             "colorbar": {
              "outlinewidth": 0,
              "ticks": ""
             }
            },
            "type": "scattergl"
           }
          ],
          "scattermapbox": [
           {
            "marker": {
             "colorbar": {
              "outlinewidth": 0,
              "ticks": ""
             }
            },
            "type": "scattermapbox"
           }
          ],
          "scatterpolar": [
           {
            "marker": {
             "colorbar": {
              "outlinewidth": 0,
              "ticks": ""
             }
            },
            "type": "scatterpolar"
           }
          ],
          "scatterpolargl": [
           {
            "marker": {
             "colorbar": {
              "outlinewidth": 0,
              "ticks": ""
             }
            },
            "type": "scatterpolargl"
           }
          ],
          "scatterternary": [
           {
            "marker": {
             "colorbar": {
              "outlinewidth": 0,
              "ticks": ""
             }
            },
            "type": "scatterternary"
           }
          ],
          "surface": [
           {
            "colorbar": {
             "outlinewidth": 0,
             "ticks": ""
            },
            "colorscale": [
             [
              0,
              "#0d0887"
             ],
             [
              0.1111111111111111,
              "#46039f"
             ],
             [
              0.2222222222222222,
              "#7201a8"
             ],
             [
              0.3333333333333333,
              "#9c179e"
             ],
             [
              0.4444444444444444,
              "#bd3786"
             ],
             [
              0.5555555555555556,
              "#d8576b"
             ],
             [
              0.6666666666666666,
              "#ed7953"
             ],
             [
              0.7777777777777778,
              "#fb9f3a"
             ],
             [
              0.8888888888888888,
              "#fdca26"
             ],
             [
              1,
              "#f0f921"
             ]
            ],
            "type": "surface"
           }
          ],
          "table": [
           {
            "cells": {
             "fill": {
              "color": "#EBF0F8"
             },
             "line": {
              "color": "white"
             }
            },
            "header": {
             "fill": {
              "color": "#C8D4E3"
             },
             "line": {
              "color": "white"
             }
            },
            "type": "table"
           }
          ]
         },
         "layout": {
          "annotationdefaults": {
           "arrowcolor": "#2a3f5f",
           "arrowhead": 0,
           "arrowwidth": 1
          },
          "autotypenumbers": "strict",
          "coloraxis": {
           "colorbar": {
            "outlinewidth": 0,
            "ticks": ""
           }
          },
          "colorscale": {
           "diverging": [
            [
             0,
             "#8e0152"
            ],
            [
             0.1,
             "#c51b7d"
            ],
            [
             0.2,
             "#de77ae"
            ],
            [
             0.3,
             "#f1b6da"
            ],
            [
             0.4,
             "#fde0ef"
            ],
            [
             0.5,
             "#f7f7f7"
            ],
            [
             0.6,
             "#e6f5d0"
            ],
            [
             0.7,
             "#b8e186"
            ],
            [
             0.8,
             "#7fbc41"
            ],
            [
             0.9,
             "#4d9221"
            ],
            [
             1,
             "#276419"
            ]
           ],
           "sequential": [
            [
             0,
             "#0d0887"
            ],
            [
             0.1111111111111111,
             "#46039f"
            ],
            [
             0.2222222222222222,
             "#7201a8"
            ],
            [
             0.3333333333333333,
             "#9c179e"
            ],
            [
             0.4444444444444444,
             "#bd3786"
            ],
            [
             0.5555555555555556,
             "#d8576b"
            ],
            [
             0.6666666666666666,
             "#ed7953"
            ],
            [
             0.7777777777777778,
             "#fb9f3a"
            ],
            [
             0.8888888888888888,
             "#fdca26"
            ],
            [
             1,
             "#f0f921"
            ]
           ],
           "sequentialminus": [
            [
             0,
             "#0d0887"
            ],
            [
             0.1111111111111111,
             "#46039f"
            ],
            [
             0.2222222222222222,
             "#7201a8"
            ],
            [
             0.3333333333333333,
             "#9c179e"
            ],
            [
             0.4444444444444444,
             "#bd3786"
            ],
            [
             0.5555555555555556,
             "#d8576b"
            ],
            [
             0.6666666666666666,
             "#ed7953"
            ],
            [
             0.7777777777777778,
             "#fb9f3a"
            ],
            [
             0.8888888888888888,
             "#fdca26"
            ],
            [
             1,
             "#f0f921"
            ]
           ]
          },
          "colorway": [
           "#636efa",
           "#EF553B",
           "#00cc96",
           "#ab63fa",
           "#FFA15A",
           "#19d3f3",
           "#FF6692",
           "#B6E880",
           "#FF97FF",
           "#FECB52"
          ],
          "font": {
           "color": "#2a3f5f"
          },
          "geo": {
           "bgcolor": "white",
           "lakecolor": "white",
           "landcolor": "#E5ECF6",
           "showlakes": true,
           "showland": true,
           "subunitcolor": "white"
          },
          "hoverlabel": {
           "align": "left"
          },
          "hovermode": "closest",
          "mapbox": {
           "style": "light"
          },
          "paper_bgcolor": "white",
          "plot_bgcolor": "#E5ECF6",
          "polar": {
           "angularaxis": {
            "gridcolor": "white",
            "linecolor": "white",
            "ticks": ""
           },
           "bgcolor": "#E5ECF6",
           "radialaxis": {
            "gridcolor": "white",
            "linecolor": "white",
            "ticks": ""
           }
          },
          "scene": {
           "xaxis": {
            "backgroundcolor": "#E5ECF6",
            "gridcolor": "white",
            "gridwidth": 2,
            "linecolor": "white",
            "showbackground": true,
            "ticks": "",
            "zerolinecolor": "white"
           },
           "yaxis": {
            "backgroundcolor": "#E5ECF6",
            "gridcolor": "white",
            "gridwidth": 2,
            "linecolor": "white",
            "showbackground": true,
            "ticks": "",
            "zerolinecolor": "white"
           },
           "zaxis": {
            "backgroundcolor": "#E5ECF6",
            "gridcolor": "white",
            "gridwidth": 2,
            "linecolor": "white",
            "showbackground": true,
            "ticks": "",
            "zerolinecolor": "white"
           }
          },
          "shapedefaults": {
           "line": {
            "color": "#2a3f5f"
           }
          },
          "ternary": {
           "aaxis": {
            "gridcolor": "white",
            "linecolor": "white",
            "ticks": ""
           },
           "baxis": {
            "gridcolor": "white",
            "linecolor": "white",
            "ticks": ""
           },
           "bgcolor": "#E5ECF6",
           "caxis": {
            "gridcolor": "white",
            "linecolor": "white",
            "ticks": ""
           }
          },
          "title": {
           "x": 0.05
          },
          "xaxis": {
           "automargin": true,
           "gridcolor": "white",
           "linecolor": "white",
           "ticks": "",
           "title": {
            "standoff": 15
           },
           "zerolinecolor": "white",
           "zerolinewidth": 2
          },
          "yaxis": {
           "automargin": true,
           "gridcolor": "white",
           "linecolor": "white",
           "ticks": "",
           "title": {
            "standoff": 15
           },
           "zerolinecolor": "white",
           "zerolinewidth": 2
          }
         }
        }
       }
      }
     },
     "metadata": {},
     "output_type": "display_data"
    }
   ],
   "source": [
    "data = prep_data(dis_trunc=30, fs_trunc=25, n_dynamic=n_dynamic_slider.value)\n",
    "solution = solve(*data)\n",
    "draw_built_stations(solution, *data)"
   ]
  },
  {
   "cell_type": "code",
   "execution_count": 8,
   "id": "efa72315",
   "metadata": {},
   "outputs": [
    {
     "data": {
      "text/plain": [
       "{'status': 2,\n",
       " 'objective function': 71981.42936253797,\n",
       " 'runtime': 0.009999990463256836,\n",
       " 'demand to satisfy': 773.0,\n",
       " 'new supply built': 775.0,\n",
       " 'dynamic assignment': {('M5G 1', 4.0): 7.0,\n",
       "  ('M5G 1', 26.0): 11.0,\n",
       "  ('M4Y 2', 10.0): 15.0,\n",
       "  ('M4Y 2', 12.0): 15.0,\n",
       "  ('M4Y 2', 19.0): 2.0,\n",
       "  ('M5B 2', 22.0): 42.0,\n",
       "  ('M5B 2', 24.0): 37.0,\n",
       "  ('M5E 1', 17.0): 8.0,\n",
       "  ('M5G 2', 6.0): 8.0,\n",
       "  ('M5G 2', 21.0): 14.0,\n",
       "  ('M5C 0', 0.0): 15.0,\n",
       "  ('M5C 0', 7.0): 15.0,\n",
       "  ('M5C 0', 8.0): 15.0,\n",
       "  ('M5C 0', 16.0): 15.0,\n",
       "  ('M5C 0', 24.0): 13.0,\n",
       "  ('M4W 0', 1.0): 9.0,\n",
       "  ('M4W 0', 25.0): 10.0,\n",
       "  ('M5G 0', 5.0): 32.0,\n",
       "  ('M5A 3', 3.0): 14.0,\n",
       "  ('M7A 1', 5.0): 2.0,\n",
       "  ('M7A 1', 15.0): 15.0,\n",
       "  ('M5V 9', 20.0): 7.0,\n",
       "  ('M5V 9', 28.0): 15.0,\n",
       "  ('M5J 0', 3.0): 34.0,\n",
       "  ('M5J 0', 9.0): 50.0,\n",
       "  ('M6J 1', 1.0): 36.0,\n",
       "  ('M5B 0', 21.0): 1.0,\n",
       "  ('M5B 0', 26.0): 4.0,\n",
       "  ('M5R 1', 17.0): 7.0,\n",
       "  ('M5R 1', 29.0): 3.0,\n",
       "  ('M5S 2', 5.0): 12.0,\n",
       "  ('M5S 2', 25.0): 5.0,\n",
       "  ('M6K 0', 29.0): 4.0,\n",
       "  ('M5V 4', 20.0): 26.0,\n",
       "  ('M5S 1', 11.0): 15.0,\n",
       "  ('M5S 1', 13.0): 50.0,\n",
       "  ('M5T 1', 18.0): 48.0,\n",
       "  ('M5L 2', 6.0): 7.0,\n",
       "  ('M5L 2', 20.0): 17.0,\n",
       "  ('M6G 1', 3.0): 2.0,\n",
       "  ('M6G 1', 22.0): 8.0,\n",
       "  ('M6G 1', 23.0): 50.0,\n",
       "  ('M4X 0', 5.0): 4.0,\n",
       "  ('M4X 0', 27.0): 15.0,\n",
       "  ('M5E 0', 4.0): 8.0,\n",
       "  ('M5V 1', 29.0): 8.0,\n",
       "  ('M5V 0', 1.0): 5.0,\n",
       "  ('M5V 0', 14.0): 15.0,\n",
       "  ('M5V 0', 18.0): 2.0,\n",
       "  ('M5V 0', 19.0): 1.0},\n",
       " 'fixed assignment': {('M4Y 2', 0.0): 15.0,\n",
       "  ('M4Y 2', 4.0): 5.0,\n",
       "  ('M5B 2', 21.0): 15.0,\n",
       "  ('M5E 1', 7.0): 4.0,\n",
       "  ('M5C 0', 6.0): 15.0,\n",
       "  ('M5C 0', 12.0): 15.0,\n",
       "  ('M5C 0', 20.0): 15.0,\n",
       "  ('M4W 0', 3.0): 15.0,\n",
       "  ('M5V 3', 7.0): 11.0,\n",
       "  ('M5V 3', 22.0): 3.0,\n",
       "  ('M5A 3', 2.0): 15.0,\n",
       "  ('M5A 3', 9.0): 15.0,\n",
       "  ('M5A 3', 17.0): 15.0,\n",
       "  ('M5A 3', 19.0): 13.0,\n",
       "  ('M7A 1', 24.0): 15.0,\n",
       "  ('M5V 9', 14.0): 4.0,\n",
       "  ('M5T 2', 4.0): 10.0,\n",
       "  ('M5T 2', 5.0): 15.0,\n",
       "  ('M5T 2', 10.0): 15.0,\n",
       "  ('M5T 2', 11.0): 14.0,\n",
       "  ('M5B 0', 15.0): 15.0,\n",
       "  ('M5S 2', 8.0): 15.0,\n",
       "  ('M5H 3', 22.0): 12.0,\n",
       "  ('M5H 3', 23.0): 4.0,\n",
       "  ('M5S 1', 11.0): 1.0,\n",
       "  ('M5S 1', 19.0): 2.0,\n",
       "  ('M6G 1', 1.0): 15.0,\n",
       "  ('M6G 1', 13.0): 15.0,\n",
       "  ('M4X 0', 14.0): 11.0,\n",
       "  ('M5E 0', 16.0): 10.0,\n",
       "  ('M5V 0', 18.0): 15.0,\n",
       "  ('M7A 0', 16.0): 5.0,\n",
       "  ('M7A 0', 23.0): 11.0},\n",
       " 'stations built': 0     2.0\n",
       " 1     3.0\n",
       " 2     0.0\n",
       " 3     3.0\n",
       " 4     2.0\n",
       " 5     3.0\n",
       " 6     2.0\n",
       " 7     2.0\n",
       " 8     2.0\n",
       " 9     3.0\n",
       " 10    2.0\n",
       " 11    2.0\n",
       " 12    2.0\n",
       " 13    3.0\n",
       " 14    2.0\n",
       " 15    2.0\n",
       " 16    2.0\n",
       " 17    2.0\n",
       " 18    3.0\n",
       " 19    1.0\n",
       " 20    3.0\n",
       " 21    2.0\n",
       " 22    3.0\n",
       " 23    3.0\n",
       " 24    3.0\n",
       " 25    2.0\n",
       " 26    2.0\n",
       " 27    2.0\n",
       " 28    2.0\n",
       " 29    2.0\n",
       " dtype: float64}"
      ]
     },
     "execution_count": 8,
     "metadata": {},
     "output_type": "execute_result"
    }
   ],
   "source": [
    "solution"
   ]
  }
 ],
 "metadata": {
  "kernelspec": {
   "display_name": "Python 3 (ipykernel)",
   "language": "python",
   "name": "python3"
  },
  "language_info": {
   "codemirror_mode": {
    "name": "ipython",
    "version": 3
   },
   "file_extension": ".py",
   "mimetype": "text/x-python",
   "name": "python",
   "nbconvert_exporter": "python",
   "pygments_lexer": "ipython3",
   "version": "3.10.8"
  }
 },
 "nbformat": 4,
 "nbformat_minor": 5
}
