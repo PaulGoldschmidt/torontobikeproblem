{
 "cells": [
  {
   "attachments": {},
   "cell_type": "markdown",
   "id": "831a6711-1215-4cd1-9d39-0242ef9dcd90",
   "metadata": {},
   "source": [
    "# Project 1 - Locations of charging stations for battery electric vehicles."
   ]
  },
  {
   "attachments": {},
   "cell_type": "markdown",
   "id": "f7e054e6-a7f6-41f1-99b7-c14b45ab91cd",
   "metadata": {
    "tags": []
   },
   "source": [
    "## Introduction to the project"
   ]
  },
  {
   "attachments": {},
   "cell_type": "markdown",
   "id": "3407c00a-deb6-47d2-be13-470d163bdcf4",
   "metadata": {
    "tags": []
   },
   "source": [
    "### Objective"
   ]
  },
  {
   "attachments": {},
   "cell_type": "markdown",
   "id": "8eb2c7a1-d608-40e9-9d49-c32678535142",
   "metadata": {
    "tags": []
   },
   "source": [
    "### Data set"
   ]
  },
  {
   "attachments": {},
   "cell_type": "markdown",
   "id": "bff53157-e1f9-4471-83c3-84360401f6b2",
   "metadata": {
    "tags": []
   },
   "source": [
    "#### Index sets"
   ]
  },
  {
   "attachments": {},
   "cell_type": "markdown",
   "id": "b25f6478-705e-4893-9865-fe48e1b6dc15",
   "metadata": {},
   "source": [
    "$dis\\_idx \\in DIS\\_IDX$: Index and set of districts.\n",
    "\n",
    "$fs\\_idx \\in FS\\_IDX = [0, N\\_FIXED]$: Index and set of fixed rental stations.\n",
    "\n",
    "$ds\\_idx \\in DS\\_IDX = [0,N\\_DYNAMIC*3]$: Index and set of dynamic rental stations.\n",
    "\n",
    "$s\\_idx \\in S\\_IDX = fs\\_idx \\cup ds\\_idx$: Index and set of dynamic rental stations.\n",
    "\n",
    "\n",
    "$\\quad \\forall ds\\_idx \\in DS\\_IDX$: Type of $ds\\_idx$ = $ds\\_idx$ // $N\\_DYNAMIC$ (0:'small', 1:'medium', 2:'large')\n",
    "\n",
    "$\\quad \\forall ds\\_idx \\in DS\\_IDX$: Position of $ds\\_idx$ = $ds\\_idx$ % $N\\_DYNAMIC$.\n",
    "\n"
   ]
  },
  {
   "attachments": {},
   "cell_type": "markdown",
   "id": "b5ab2152-3720-4077-b390-6b8b80e21e41",
   "metadata": {
    "tags": []
   },
   "source": [
    "#### Parameters"
   ]
  },
  {
   "attachments": {},
   "cell_type": "markdown",
   "id": "494ceed0-ef7d-43e8-a41c-f7853da0b444",
   "metadata": {},
   "source": [
    "$demand_{dis\\_idx} \\in \\mathbb{R}^+$: Demand for stations in district $dis\\_idx$.\n",
    "\n",
    "$\\text{costS} = 10$: Cost of building a small station.\n",
    "\n",
    "$\\text{costM} = 20$: Cost of building a medium station.\n",
    "\n",
    "$\\text{costL} = 50$: Cost of building a large station.\n",
    "\n",
    "$capS= 10$: Number of bikes for a small station.\n",
    " \n",
    "$capM = 30$: Number of bikes for a medium station.\n",
    "\n",
    "$capL = 100$: Number of bikes for a large station."
   ]
  },
  {
   "attachments": {},
   "cell_type": "markdown",
   "id": "81d4f791-9a5b-431b-a7b8-8efb64bab946",
   "metadata": {},
   "source": [
    "#### Decision variables"
   ]
  },
  {
   "attachments": {},
   "cell_type": "markdown",
   "id": "310c8ca9-c74e-4b8a-9946-fe3f70484fa2",
   "metadata": {},
   "source": [
    "$ysmall_{ds\\_idx} \\in \\{0, 1 \\}$: 1 if small station built at position of $ds\\_idx$; otherwise 0.\n",
    "\n",
    "$ymed_{ds\\_idx} \\in \\{0, 1 \\}$: 1 if medium station built at position of $ds\\_idx$; otherwise 0.\n",
    "\n",
    "$ylarge_{ds\\_idx} \\in \\{0, 1 \\}$: 1 if large station built at position of $ds\\_idx$; otherwise 0.\n",
    "\n",
    "$x_{s\\_idx,dis\\_idx} \\in \\mathbb{R}^+$: Amount of the district's $dis\\_idx$ demand met by rental station $s\\_idx$. "
   ]
  },
  {
   "attachments": {},
   "cell_type": "markdown",
   "id": "b5509f60-b839-4e28-bd67-d9a84e2c374d",
   "metadata": {},
   "source": [
    "#### Objective function"
   ]
  },
  {
   "attachments": {},
   "cell_type": "markdown",
   "id": "fc019597-b72e-4046-8eeb-301b6fdcde10",
   "metadata": {},
   "source": [
    "- **Costs**. Minimize investment costs.\n",
    " \n",
    "\n",
    "\\begin{equation}\n",
    "\\text{Min} \\quad CostTarget = \n",
    "\\text{costS}\\sum_{i = 0}^{N\\_DYNAMIC} ysmall_i + \\text{costM}\\sum_{i = N\\_DYNAMIC}^{N\\_DYNAMIC * 2} ymed_i + \\text{costL}\\sum_{i = N\\_DYNAMIC * 2}^{N\\_DYNAMIC * 3} ylarge_i\n",
    "\\tag{0}\n",
    "\\end{equation}\n",
    "\n",
    "\n",
    "- **Distance**. Minimize Distance from District to Stations supplying their demand.\n",
    "\\begin{equation}\n",
    "\\text{Min} \\quad DistanceTarget = \\sum_{s\\_idx \\in S\\_IDX} \\sum_{dis\\_idx \\in DIX\\_IDX} x_{s\\_idx, dis\\_idx} * ||pos(s\\_idx) - pos(dis\\_idx)||\n",
    "\\tag{1}\n",
    "\\end{equation}\n",
    "\n",
    "\n",
    "- **Combined**. Combine Targets.\n",
    "\\begin{equation}\n",
    "\\text{Min} \\quad T = w1*CostTarget + w2*DistanceTarget\n",
    "\\end{equation}"
   ]
  },
  {
   "attachments": {},
   "cell_type": "markdown",
   "id": "a1c21d2b-ce16-46d5-b2be-1a3a2ea3c841",
   "metadata": {},
   "source": [
    "#### Constraints"
   ]
  },
  {
   "attachments": {},
   "cell_type": "markdown",
   "id": "865d8b86-f67f-443c-90b3-6dd747b51e3b",
   "metadata": {},
   "source": [
    "- **Demand**. The complete demand of a district $dis\\_idx$ should be met.\n",
    "\n",
    "\\begin{equation}\n",
    "\\sum_{s\\_idx  \\in  S\\_IDX} x_{s\\_idx,dis\\_idx} = demand_{dis\\_idx} \\quad \\forall dis\\_idx \\in DIS\\_IDX\n",
    "\\tag{1}\n",
    "\\end{equation}\n",
    "\n",
    "- **Capacity**. Capacity of stations cannot be exceeded. \n",
    "\\begin{equation}\n",
    "\\sum_{dis\\_idx \\in DIS\\_IDX} x_{s\\_idx,dis\\_idx} \\leq ysmall_{s\\_idx}*capS + ymed_{s\\_idx}*capM + ylarge_{s\\_idx}*capL  \\quad \\forall s\\_idx \\in S\\_IDX\n",
    "\\tag{2}\n",
    "\\end{equation}\n",
    "\n",
    "- **Location**. At every possible location $ds\\_idx$ a maximum of one charging station can be built. \n",
    "\n",
    "\\begin{equation}\n",
    "ysmall_{ds\\_idx} + ymed_{ds\\_idx} + ylarge_{ds\\_idx} \\leq 1 \\quad \\forall ds\\_idx \\in DS\\_IDX\n",
    "\\tag{3}\n",
    "\\end{equation}"
   ]
  },
  {
   "attachments": {},
   "cell_type": "markdown",
   "id": "b55c7ed9",
   "metadata": {},
   "source": [
    "# Implementation"
   ]
  },
  {
   "cell_type": "code",
   "execution_count": 471,
   "id": "9b3fd3cf-9ad6-48d2-8cd3-06b660346d59",
   "metadata": {},
   "outputs": [],
   "source": [
    "from itertools import product\n",
    "from math import sqrt\n",
    "import gurobipy as gp\n",
    "from gurobipy import GRB\n",
    "import pandas as pd\n",
    "import numpy as np\n",
    "import plotly.express as px\n",
    "import plotly.graph_objects as go\n",
    "from plotly.subplots import make_subplots"
   ]
  },
  {
   "cell_type": "code",
   "execution_count": 472,
   "id": "f19d0216",
   "metadata": {},
   "outputs": [],
   "source": [
    "DATE = \"01/01/2019\"\n",
    "NUM_DYNAMIC_STATIONS = 30"
   ]
  },
  {
   "cell_type": "code",
   "execution_count": 473,
   "id": "9901bcbd",
   "metadata": {},
   "outputs": [],
   "source": [
    "# fixed stations\n",
    "coords = pd.read_csv(\"koordinaten.csv\").drop(columns=\"Station\").rename(columns={\"Terminal\": \"Station\"})\n",
    "df_fs = pd.read_csv(\"station_demand_per_day.csv\", low_memory=False)\n",
    "df_fs[\"Station\"] = pd.to_numeric(df_fs[\"Station\"], errors=\"coerce\")\n",
    "df_fs = pd.merge(df_fs, coords, on=\"Station\")\n",
    "df_fs = df_fs.where(df_fs[\"Day\"] == DATE).dropna().drop(columns=[\"Day\", \"Docks\", \"Demand\"])\n",
    "df_fs.rename(columns={\"Longitude\": \"Lon\", \"Latitude\": \"Lat\"}, inplace=True)\n",
    "df_fs[\"Station\"] = range(len(df_fs))"
   ]
  },
  {
   "cell_type": "code",
   "execution_count": 474,
   "id": "4da51d51",
   "metadata": {},
   "outputs": [],
   "source": [
    "# districts\n",
    "zipcoords = pd.read_csv(\"zipcoords.csv\", header=None, names=[\"District\", \"Lat\", \"Lon\"])\n",
    "df_dis = pd.merge(pd.read_csv(\"district_demand_per_day.csv\"), zipcoords, on=\"District\")\n",
    "df_dis = df_dis.where(df_dis[\"Day\"] == DATE).dropna().drop(columns=[\"Day\"])"
   ]
  },
  {
   "cell_type": "code",
   "execution_count": 475,
   "id": "26ed5460",
   "metadata": {},
   "outputs": [],
   "source": [
    "# dynamic stations\n",
    "latlims = df_dis[\"Lat\"].agg([\"min\", \"max\"])\n",
    "df_ds = pd.DataFrame(columns=[\"Station\", \"Lat\", \"Lon\"])\n",
    "for i in range(NUM_DYNAMIC_STATIONS):\n",
    "    df_ds.loc[i] = [i, np.random.uniform(*df_dis[\"Lat\"].agg([\"min\", \"max\"])), np.random.uniform(*df_dis[\"Lon\"].agg([\"min\", \"max\"]))]"
   ]
  },
  {
   "cell_type": "code",
   "execution_count": 478,
   "id": "20ade510",
   "metadata": {},
   "outputs": [],
   "source": [
    "df_dis = df_dis.head(25)\n",
    "df_fs = df_fs.head(30)"
   ]
  },
  {
   "cell_type": "code",
   "execution_count": 486,
   "id": "2d63b801",
   "metadata": {},
   "outputs": [
    {
     "name": "stdout",
     "output_type": "stream",
     "text": [
      "Gurobi Optimizer version 10.0.2 build v10.0.2rc0 (linux64)\n",
      "\n",
      "CPU model: Intel(R) Core(TM) i7-7700HQ CPU @ 2.80GHz, instruction set [SSE2|AVX|AVX2]\n",
      "Thread count: 4 physical cores, 8 logical processors, using up to 8 threads\n",
      "\n",
      "Optimize a model with 115 rows, 1590 columns and 3180 nonzeros\n",
      "Model fingerprint: 0xc06b5385\n",
      "Variable types: 1500 continuous, 90 integer (90 binary)\n",
      "Coefficient statistics:\n",
      "  Matrix range     [1e+00, 4e+01]\n",
      "  Objective range  [5e+00, 1e+02]\n",
      "  Bounds range     [1e+00, 1e+00]\n",
      "  RHS range        [1e+00, 1e+02]\n",
      "Found heuristic solution: objective 130389.60627\n",
      "Presolve time: 0.01s\n",
      "Presolved: 115 rows, 1590 columns, 3180 nonzeros\n",
      "Variable types: 1500 continuous, 90 integer (90 binary)\n",
      "Found heuristic solution: objective 130299.60627\n",
      "\n",
      "Root relaxation: objective 1.301477e+05, 472 iterations, 0.01 seconds (0.00 work units)\n",
      "\n",
      "    Nodes    |    Current Node    |     Objective Bounds      |     Work\n",
      " Expl Unexpl |  Obj  Depth IntInf | Incumbent    BestBd   Gap | It/Node Time\n",
      "\n",
      "     0     0 130147.652    0    4 130299.606 130147.652  0.12%     -    0s\n",
      "H    0     0                    130163.65071 130147.652  0.01%     -    0s\n",
      "     0     0 130147.672    0    2 130163.651 130147.672  0.01%     -    0s\n",
      "     0     0 130147.683    0    2 130163.651 130147.683  0.01%     -    0s\n",
      "     0     0 130147.690    0    2 130163.651 130147.690  0.01%     -    0s\n",
      "H    0     0                    130153.95538 130147.690  0.00%     -    0s\n",
      "\n",
      "Cutting planes:\n",
      "  MIR: 3\n",
      "\n",
      "Explored 1 nodes (479 simplex iterations) in 0.18 seconds (0.02 work units)\n",
      "Thread count was 8 (of 8 available processors)\n",
      "\n",
      "Solution count 4: 130154 130164 130300 130390 \n",
      "\n",
      "Optimal solution found (tolerance 1.00e-04)\n",
      "Best objective 1.301539553756e+05, best bound 1.301476896060e+05, gap 0.0048%\n"
     ]
    },
    {
     "data": {
      "application/vnd.plotly.v1+json": {
       "config": {
        "plotlyServerURL": "https://plot.ly"
       },
       "data": [
        {
         "hovertemplate": "Type=Built Small<br>Lat=%{x}<br>Lon=%{y}<extra></extra>",
         "legendgroup": "Built Small",
         "marker": {
          "color": "lightgreen",
          "symbol": "circle"
         },
         "mode": "markers",
         "name": "Built Small",
         "orientation": "v",
         "showlegend": true,
         "type": "scatter",
         "x": [
          43.64944229585847,
          43.67065920226568,
          43.637916776789304,
          43.65302939618338,
          43.64818691937952,
          43.66734323185285,
          43.64502792011149,
          43.66179747061187,
          43.65962504754037,
          43.66642357520615,
          43.64800950414513,
          43.65784088472508,
          43.64455358894145,
          43.66884688919172
         ],
         "xaxis": "x",
         "y": [
          -79.41720255526246,
          -79.39538118569004,
          -79.41449268796089,
          -79.40873323497085,
          -79.41816284964364,
          -79.38524186131507,
          -79.39984545580326,
          -79.40008650998428,
          -79.41102456000824,
          -79.41561285086475,
          -79.39336105887159,
          -79.41081493261271,
          -79.39408287137866,
          -79.38737398354638
         ],
         "yaxis": "y"
        },
        {
         "hovertemplate": "Type=Ignored<br>Lat=%{x}<br>Lon=%{y}<extra></extra>",
         "legendgroup": "Ignored",
         "marker": {
          "color": "grey",
          "symbol": "circle"
         },
         "mode": "markers",
         "name": "Ignored",
         "orientation": "v",
         "showlegend": true,
         "type": "scatter",
         "x": [
          43.648530280748034,
          43.64567816212019,
          43.66957944923642
         ],
         "xaxis": "x",
         "y": [
          -79.42227012757334,
          -79.4203065379946,
          -79.41708240966766
         ],
         "yaxis": "y"
        },
        {
         "hovertemplate": "Type=Built Large<br>Lat=%{x}<br>Lon=%{y}<extra></extra>",
         "legendgroup": "Built Large",
         "marker": {
          "color": "darkgreen",
          "symbol": "circle"
         },
         "mode": "markers",
         "name": "Built Large",
         "orientation": "v",
         "showlegend": true,
         "type": "scatter",
         "x": [
          43.64980418283515,
          43.66171776870759,
          43.664907073756716,
          43.65265760542531,
          43.659413124789886,
          43.64726256900145,
          43.65890947147309,
          43.63838768870117,
          43.647805324073374,
          43.660336137102185,
          43.66318444733023,
          43.63878815884886,
          43.660454463368644
         ],
         "xaxis": "x",
         "y": [
          -79.38171742570772,
          -79.36690884159795,
          -79.3730280887748,
          -79.38280773203113,
          -79.37869186343008,
          -79.38065489374303,
          -79.37863847411879,
          -79.38883592027463,
          -79.38518417148755,
          -79.38095492328065,
          -79.37490641888867,
          -79.36414212387758,
          -79.36548589465083
         ],
         "yaxis": "y"
        },
        {
         "hovertemplate": "Type=Prebuilt<br>Lat=%{x}<br>Lon=%{y}<extra></extra>",
         "legendgroup": "Prebuilt",
         "marker": {
          "color": "orange",
          "symbol": "circle"
         },
         "mode": "markers",
         "name": "Prebuilt",
         "orientation": "v",
         "showlegend": true,
         "type": "scatter",
         "x": [
          43.653264,
          43.664953,
          43.66207,
          43.64656,
          43.656152,
          43.656729,
          43.669192,
          43.6354,
          43.645533,
          43.659575,
          43.656094,
          43.657763,
          43.671293,
          43.6636,
          43.645323,
          43.641529,
          43.64534,
          43.661149,
          43.652823,
          43.6582,
          43.668327,
          43.665527,
          43.644524,
          43.639832,
          43.648093,
          43.667333,
          43.6476,
          43.64852,
          43.659778,
          43.6571
         ],
         "xaxis": "x",
         "y": [
          -79.382458,
          -79.384423,
          -79.37617,
          -79.375274,
          -79.385225,
          -79.382736,
          -79.379128,
          -79.3984,
          -79.3854,
          -79.365769,
          -79.381484,
          -79.389165,
          -79.380471,
          -79.3806,
          -79.395003,
          -79.386741,
          -79.409597,
          -79.366648,
          -79.393388,
          -79.3768,
          -79.39355,
          -79.387499,
          -79.416519,
          -79.395954,
          -79.384749,
          -79.399429,
          -79.4015,
          -79.380576,
          -79.37978,
          -79.4056
         ],
         "yaxis": "y"
        },
        {
         "hovertemplate": "Type=District<br>Lat=%{x}<br>Lon=%{y}<extra></extra>",
         "legendgroup": "District",
         "marker": {
          "color": "blue",
          "symbol": "circle"
         },
         "mode": "markers",
         "name": "District",
         "orientation": "v",
         "showlegend": true,
         "type": "scatter",
         "x": [
          43.6543,
          43.6678,
          43.6604,
          43.6465,
          43.6582,
          43.6574,
          43.6721,
          43.6341,
          43.6455,
          43.6621,
          43.6607,
          43.646,
          43.6405,
          43.6438,
          43.6506,
          43.6577,
          43.6699,
          43.6649,
          43.6407,
          43.6408,
          43.6505,
          43.6615,
          43.6496,
          43.6482,
          43.6563
         ],
         "xaxis": "x",
         "y": [
          -79.3816,
          -79.3848,
          -79.3787,
          -79.3752,
          -79.3859,
          -79.3817,
          -79.3786,
          -79.3995,
          -79.3831,
          -79.367,
          -79.3903,
          -79.3923,
          -79.3888,
          -79.4067,
          -79.395,
          -79.3786,
          -79.3931,
          -79.3873,
          -79.4147,
          -79.3979,
          -79.3846,
          -79.3963,
          -79.3956,
          -79.3798,
          -79.4084
         ],
         "yaxis": "y"
        }
       ],
       "layout": {
        "template": {
         "data": {
          "bar": [
           {
            "error_x": {
             "color": "#2a3f5f"
            },
            "error_y": {
             "color": "#2a3f5f"
            },
            "marker": {
             "line": {
              "color": "#E5ECF6",
              "width": 0.5
             },
             "pattern": {
              "fillmode": "overlay",
              "size": 10,
              "solidity": 0.2
             }
            },
            "type": "bar"
           }
          ],
          "barpolar": [
           {
            "marker": {
             "line": {
              "color": "#E5ECF6",
              "width": 0.5
             },
             "pattern": {
              "fillmode": "overlay",
              "size": 10,
              "solidity": 0.2
             }
            },
            "type": "barpolar"
           }
          ],
          "carpet": [
           {
            "aaxis": {
             "endlinecolor": "#2a3f5f",
             "gridcolor": "white",
             "linecolor": "white",
             "minorgridcolor": "white",
             "startlinecolor": "#2a3f5f"
            },
            "baxis": {
             "endlinecolor": "#2a3f5f",
             "gridcolor": "white",
             "linecolor": "white",
             "minorgridcolor": "white",
             "startlinecolor": "#2a3f5f"
            },
            "type": "carpet"
           }
          ],
          "choropleth": [
           {
            "colorbar": {
             "outlinewidth": 0,
             "ticks": ""
            },
            "type": "choropleth"
           }
          ],
          "contour": [
           {
            "colorbar": {
             "outlinewidth": 0,
             "ticks": ""
            },
            "colorscale": [
             [
              0,
              "#0d0887"
             ],
             [
              0.1111111111111111,
              "#46039f"
             ],
             [
              0.2222222222222222,
              "#7201a8"
             ],
             [
              0.3333333333333333,
              "#9c179e"
             ],
             [
              0.4444444444444444,
              "#bd3786"
             ],
             [
              0.5555555555555556,
              "#d8576b"
             ],
             [
              0.6666666666666666,
              "#ed7953"
             ],
             [
              0.7777777777777778,
              "#fb9f3a"
             ],
             [
              0.8888888888888888,
              "#fdca26"
             ],
             [
              1,
              "#f0f921"
             ]
            ],
            "type": "contour"
           }
          ],
          "contourcarpet": [
           {
            "colorbar": {
             "outlinewidth": 0,
             "ticks": ""
            },
            "type": "contourcarpet"
           }
          ],
          "heatmap": [
           {
            "colorbar": {
             "outlinewidth": 0,
             "ticks": ""
            },
            "colorscale": [
             [
              0,
              "#0d0887"
             ],
             [
              0.1111111111111111,
              "#46039f"
             ],
             [
              0.2222222222222222,
              "#7201a8"
             ],
             [
              0.3333333333333333,
              "#9c179e"
             ],
             [
              0.4444444444444444,
              "#bd3786"
             ],
             [
              0.5555555555555556,
              "#d8576b"
             ],
             [
              0.6666666666666666,
              "#ed7953"
             ],
             [
              0.7777777777777778,
              "#fb9f3a"
             ],
             [
              0.8888888888888888,
              "#fdca26"
             ],
             [
              1,
              "#f0f921"
             ]
            ],
            "type": "heatmap"
           }
          ],
          "heatmapgl": [
           {
            "colorbar": {
             "outlinewidth": 0,
             "ticks": ""
            },
            "colorscale": [
             [
              0,
              "#0d0887"
             ],
             [
              0.1111111111111111,
              "#46039f"
             ],
             [
              0.2222222222222222,
              "#7201a8"
             ],
             [
              0.3333333333333333,
              "#9c179e"
             ],
             [
              0.4444444444444444,
              "#bd3786"
             ],
             [
              0.5555555555555556,
              "#d8576b"
             ],
             [
              0.6666666666666666,
              "#ed7953"
             ],
             [
              0.7777777777777778,
              "#fb9f3a"
             ],
             [
              0.8888888888888888,
              "#fdca26"
             ],
             [
              1,
              "#f0f921"
             ]
            ],
            "type": "heatmapgl"
           }
          ],
          "histogram": [
           {
            "marker": {
             "pattern": {
              "fillmode": "overlay",
              "size": 10,
              "solidity": 0.2
             }
            },
            "type": "histogram"
           }
          ],
          "histogram2d": [
           {
            "colorbar": {
             "outlinewidth": 0,
             "ticks": ""
            },
            "colorscale": [
             [
              0,
              "#0d0887"
             ],
             [
              0.1111111111111111,
              "#46039f"
             ],
             [
              0.2222222222222222,
              "#7201a8"
             ],
             [
              0.3333333333333333,
              "#9c179e"
             ],
             [
              0.4444444444444444,
              "#bd3786"
             ],
             [
              0.5555555555555556,
              "#d8576b"
             ],
             [
              0.6666666666666666,
              "#ed7953"
             ],
             [
              0.7777777777777778,
              "#fb9f3a"
             ],
             [
              0.8888888888888888,
              "#fdca26"
             ],
             [
              1,
              "#f0f921"
             ]
            ],
            "type": "histogram2d"
           }
          ],
          "histogram2dcontour": [
           {
            "colorbar": {
             "outlinewidth": 0,
             "ticks": ""
            },
            "colorscale": [
             [
              0,
              "#0d0887"
             ],
             [
              0.1111111111111111,
              "#46039f"
             ],
             [
              0.2222222222222222,
              "#7201a8"
             ],
             [
              0.3333333333333333,
              "#9c179e"
             ],
             [
              0.4444444444444444,
              "#bd3786"
             ],
             [
              0.5555555555555556,
              "#d8576b"
             ],
             [
              0.6666666666666666,
              "#ed7953"
             ],
             [
              0.7777777777777778,
              "#fb9f3a"
             ],
             [
              0.8888888888888888,
              "#fdca26"
             ],
             [
              1,
              "#f0f921"
             ]
            ],
            "type": "histogram2dcontour"
           }
          ],
          "mesh3d": [
           {
            "colorbar": {
             "outlinewidth": 0,
             "ticks": ""
            },
            "type": "mesh3d"
           }
          ],
          "parcoords": [
           {
            "line": {
             "colorbar": {
              "outlinewidth": 0,
              "ticks": ""
             }
            },
            "type": "parcoords"
           }
          ],
          "pie": [
           {
            "automargin": true,
            "type": "pie"
           }
          ],
          "scatter": [
           {
            "fillpattern": {
             "fillmode": "overlay",
             "size": 10,
             "solidity": 0.2
            },
            "type": "scatter"
           }
          ],
          "scatter3d": [
           {
            "line": {
             "colorbar": {
              "outlinewidth": 0,
              "ticks": ""
             }
            },
            "marker": {
             "colorbar": {
              "outlinewidth": 0,
              "ticks": ""
             }
            },
            "type": "scatter3d"
           }
          ],
          "scattercarpet": [
           {
            "marker": {
             "colorbar": {
              "outlinewidth": 0,
              "ticks": ""
             }
            },
            "type": "scattercarpet"
           }
          ],
          "scattergeo": [
           {
            "marker": {
             "colorbar": {
              "outlinewidth": 0,
              "ticks": ""
             }
            },
            "type": "scattergeo"
           }
          ],
          "scattergl": [
           {
            "marker": {
             "colorbar": {
              "outlinewidth": 0,
              "ticks": ""
             }
            },
            "type": "scattergl"
           }
          ],
          "scattermapbox": [
           {
            "marker": {
             "colorbar": {
              "outlinewidth": 0,
              "ticks": ""
             }
            },
            "type": "scattermapbox"
           }
          ],
          "scatterpolar": [
           {
            "marker": {
             "colorbar": {
              "outlinewidth": 0,
              "ticks": ""
             }
            },
            "type": "scatterpolar"
           }
          ],
          "scatterpolargl": [
           {
            "marker": {
             "colorbar": {
              "outlinewidth": 0,
              "ticks": ""
             }
            },
            "type": "scatterpolargl"
           }
          ],
          "scatterternary": [
           {
            "marker": {
             "colorbar": {
              "outlinewidth": 0,
              "ticks": ""
             }
            },
            "type": "scatterternary"
           }
          ],
          "surface": [
           {
            "colorbar": {
             "outlinewidth": 0,
             "ticks": ""
            },
            "colorscale": [
             [
              0,
              "#0d0887"
             ],
             [
              0.1111111111111111,
              "#46039f"
             ],
             [
              0.2222222222222222,
              "#7201a8"
             ],
             [
              0.3333333333333333,
              "#9c179e"
             ],
             [
              0.4444444444444444,
              "#bd3786"
             ],
             [
              0.5555555555555556,
              "#d8576b"
             ],
             [
              0.6666666666666666,
              "#ed7953"
             ],
             [
              0.7777777777777778,
              "#fb9f3a"
             ],
             [
              0.8888888888888888,
              "#fdca26"
             ],
             [
              1,
              "#f0f921"
             ]
            ],
            "type": "surface"
           }
          ],
          "table": [
           {
            "cells": {
             "fill": {
              "color": "#EBF0F8"
             },
             "line": {
              "color": "white"
             }
            },
            "header": {
             "fill": {
              "color": "#C8D4E3"
             },
             "line": {
              "color": "white"
             }
            },
            "type": "table"
           }
          ]
         },
         "layout": {
          "annotationdefaults": {
           "arrowcolor": "#2a3f5f",
           "arrowhead": 0,
           "arrowwidth": 1
          },
          "autotypenumbers": "strict",
          "coloraxis": {
           "colorbar": {
            "outlinewidth": 0,
            "ticks": ""
           }
          },
          "colorscale": {
           "diverging": [
            [
             0,
             "#8e0152"
            ],
            [
             0.1,
             "#c51b7d"
            ],
            [
             0.2,
             "#de77ae"
            ],
            [
             0.3,
             "#f1b6da"
            ],
            [
             0.4,
             "#fde0ef"
            ],
            [
             0.5,
             "#f7f7f7"
            ],
            [
             0.6,
             "#e6f5d0"
            ],
            [
             0.7,
             "#b8e186"
            ],
            [
             0.8,
             "#7fbc41"
            ],
            [
             0.9,
             "#4d9221"
            ],
            [
             1,
             "#276419"
            ]
           ],
           "sequential": [
            [
             0,
             "#0d0887"
            ],
            [
             0.1111111111111111,
             "#46039f"
            ],
            [
             0.2222222222222222,
             "#7201a8"
            ],
            [
             0.3333333333333333,
             "#9c179e"
            ],
            [
             0.4444444444444444,
             "#bd3786"
            ],
            [
             0.5555555555555556,
             "#d8576b"
            ],
            [
             0.6666666666666666,
             "#ed7953"
            ],
            [
             0.7777777777777778,
             "#fb9f3a"
            ],
            [
             0.8888888888888888,
             "#fdca26"
            ],
            [
             1,
             "#f0f921"
            ]
           ],
           "sequentialminus": [
            [
             0,
             "#0d0887"
            ],
            [
             0.1111111111111111,
             "#46039f"
            ],
            [
             0.2222222222222222,
             "#7201a8"
            ],
            [
             0.3333333333333333,
             "#9c179e"
            ],
            [
             0.4444444444444444,
             "#bd3786"
            ],
            [
             0.5555555555555556,
             "#d8576b"
            ],
            [
             0.6666666666666666,
             "#ed7953"
            ],
            [
             0.7777777777777778,
             "#fb9f3a"
            ],
            [
             0.8888888888888888,
             "#fdca26"
            ],
            [
             1,
             "#f0f921"
            ]
           ]
          },
          "colorway": [
           "#636efa",
           "#EF553B",
           "#00cc96",
           "#ab63fa",
           "#FFA15A",
           "#19d3f3",
           "#FF6692",
           "#B6E880",
           "#FF97FF",
           "#FECB52"
          ],
          "font": {
           "color": "#2a3f5f"
          },
          "geo": {
           "bgcolor": "white",
           "lakecolor": "white",
           "landcolor": "#E5ECF6",
           "showlakes": true,
           "showland": true,
           "subunitcolor": "white"
          },
          "hoverlabel": {
           "align": "left"
          },
          "hovermode": "closest",
          "mapbox": {
           "style": "light"
          },
          "paper_bgcolor": "white",
          "plot_bgcolor": "#E5ECF6",
          "polar": {
           "angularaxis": {
            "gridcolor": "white",
            "linecolor": "white",
            "ticks": ""
           },
           "bgcolor": "#E5ECF6",
           "radialaxis": {
            "gridcolor": "white",
            "linecolor": "white",
            "ticks": ""
           }
          },
          "scene": {
           "xaxis": {
            "backgroundcolor": "#E5ECF6",
            "gridcolor": "white",
            "gridwidth": 2,
            "linecolor": "white",
            "showbackground": true,
            "ticks": "",
            "zerolinecolor": "white"
           },
           "yaxis": {
            "backgroundcolor": "#E5ECF6",
            "gridcolor": "white",
            "gridwidth": 2,
            "linecolor": "white",
            "showbackground": true,
            "ticks": "",
            "zerolinecolor": "white"
           },
           "zaxis": {
            "backgroundcolor": "#E5ECF6",
            "gridcolor": "white",
            "gridwidth": 2,
            "linecolor": "white",
            "showbackground": true,
            "ticks": "",
            "zerolinecolor": "white"
           }
          },
          "shapedefaults": {
           "line": {
            "color": "#2a3f5f"
           }
          },
          "ternary": {
           "aaxis": {
            "gridcolor": "white",
            "linecolor": "white",
            "ticks": ""
           },
           "baxis": {
            "gridcolor": "white",
            "linecolor": "white",
            "ticks": ""
           },
           "bgcolor": "#E5ECF6",
           "caxis": {
            "gridcolor": "white",
            "linecolor": "white",
            "ticks": ""
           }
          },
          "title": {
           "x": 0.05
          },
          "xaxis": {
           "automargin": true,
           "gridcolor": "white",
           "linecolor": "white",
           "ticks": "",
           "title": {
            "standoff": 15
           },
           "zerolinecolor": "white",
           "zerolinewidth": 2
          },
          "yaxis": {
           "automargin": true,
           "gridcolor": "white",
           "linecolor": "white",
           "ticks": "",
           "title": {
            "standoff": 15
           },
           "zerolinecolor": "white",
           "zerolinewidth": 2
          }
         }
        }
       }
      }
     },
     "metadata": {},
     "output_type": "display_data"
    }
   ],
   "source": [
    "# Costs\n",
    "costS = 5\n",
    "costM = 20\n",
    "costL = 50\n",
    "\n",
    "# Capacities\n",
    "capS = 5\n",
    "capM = 15\n",
    "capL = 40\n",
    "\n",
    "demandMod = 2\n",
    "\n",
    "fs = {s:(x,y) for i, (s,x,y) in df_fs.iterrows()}\n",
    "ds = {s:(x,y) for i, (s,x,y) in df_ds.iterrows()}\n",
    "\n",
    "# district to coord\n",
    "distr = {d:(x,y) for i, (d,x,y,dem) in df_dis.iterrows()}\n",
    "\n",
    "# station to capacity (fixed for now, didn't find data @dataacquisition O.o)\n",
    "capacity = {s:capM for i, (s,x,y) in df_fs.iterrows()}\n",
    "\n",
    "# district to demand\n",
    "demand = {d:dem*demandMod for i, (d,dem,x,y) in df_dis.iterrows()}\n",
    "\n",
    "n_fixed = len(df_fs)\n",
    "n_dynamic = len(df_ds)\n",
    "n_total = n_fixed + n_dynamic\n",
    "\n",
    "\n",
    "# Loss weighting\n",
    "w1 = 1\n",
    "w2 = 1\n",
    "\n",
    "# Calculation of the distances between the districts and the locations of the charging stations\n",
    "dists_fix = {}\n",
    "for d_i, d_v in distr.items():\n",
    "    for s_i, s_v in fs.items():\n",
    "        dists_fix[(d_i, s_i)] = sqrt((d_v[0] - s_v[0])**2 + (d_v[1] - s_v[1])**2)\n",
    "\n",
    "dists_dyn = {}\n",
    "for d_i, d_v in distr.items():\n",
    "    for s_i, s_v in ds.items():\n",
    "        dists_dyn[(d_i, s_i)] = sqrt((d_v[0] - s_v[0])**2 + (d_v[1] - s_v[1])**2)\n",
    "\n",
    "#####################################################\n",
    "#                    MILP Model Formulation\n",
    "#####################################################\n",
    "\n",
    "# Model\n",
    "m = gp.Model('eval_rental_positions')\n",
    "\n",
    "# Decision variables\n",
    "offsetidx = [range(0, n_dynamic), range(n_dynamic, n_dynamic*2), range(n_dynamic*2, n_dynamic*3)]\n",
    "ys = m.addVars(offsetidx[0], vtype=GRB.BINARY, name='small')\n",
    "ym = m.addVars(offsetidx[1], vtype=GRB.BINARY, name='medium')\n",
    "yl = m.addVars(offsetidx[2], vtype=GRB.BINARY, name='large')\n",
    "\n",
    "# Parameter\n",
    "xdyn = m.addVars(dists_dyn.keys(), vtype=GRB.CONTINUOUS, name='AssignDyn', lb=0)\n",
    "xfix = m.addVars(dists_fix.keys(), vtype=GRB.CONTINUOUS, name='AssignFix', lb=0)\n",
    "\n",
    "# Objective function\n",
    "m.setObjective(\n",
    "    (costS * gp.quicksum(ys[i] for i in offsetidx[0]) + costM * gp.quicksum(ym[i] for i in offsetidx[1]) + costL * gp.quicksum(yl[i] for i in offsetidx[2])) \n",
    "    +\n",
    "    gp.quicksum(w2 * xdyn[(i,j)]*dists_dyn[(i,j)] for i in distr.keys() for j in range(n_dynamic)) \n",
    "    +\n",
    "    gp.quicksum(w2 * xfix[(i,j)]*dists_fix[(i,j)] for i in distr.keys() for j in range(n_fixed))\n",
    "    ,\n",
    "    GRB.MINIMIZE\n",
    ")\n",
    "# dyn and fixed stations supply all demand\n",
    "m.addConstrs((gp.quicksum(xdyn[(i,j)] for j in range(n_dynamic)) + gp.quicksum(xfix[(i,j)] for j in range(n_fixed)) >= demand[i] for i in distr.keys()), name=\"demandConstr\")\n",
    "# dyn stations have enough capacity\n",
    "m.addConstrs((gp.quicksum(xdyn[(d,i)] for d in distr.keys()) <= ys[i]*capS + ym[j]*capM + yl[k]*capL for (i,j,k) in zip(*offsetidx)), name=\"capacityFixConstr\")\n",
    "# fixed stations have enough capacity\n",
    "m.addConstrs((gp.quicksum(xfix[(i,j)] for i in distr.keys()) <= capacity[j] for j in range(n_fixed)), name=\"capacityDynConstr\")\n",
    "# max one station per location\n",
    "m.addConstrs((ys[i] + ym[j] + yl[k] <= 1 for (i,j,k) in zip(*offsetidx)), name=\"PhysicsConstr\")\n",
    "\n",
    "m.optimize()\n",
    "\n",
    "post_ds = df_ds.copy()\n",
    "post_ds[\"Type\"] = pd.Series(df_ds.index).apply(lambda x: ys[x].X+2*ym[x+n_dynamic].X+3*yl[x+2*n_dynamic].X).map({\n",
    "    0:\"Ignored\",\n",
    "    1: \"Built Small\",\n",
    "    2: \"Built Medium\",\n",
    "    3: \"Built Large\"\n",
    "})\n",
    "post_fixed = df_fs.copy()\n",
    "post_fixed[\"Type\"] = \"Prebuilt\"\n",
    "post_distr = df_dis.copy()\n",
    "post_distr[\"Type\"] = \"District\"\n",
    "# create scatter trace for nodes\n",
    "t1 = px.scatter(pd.concat([post_ds, post_fixed, post_distr]), x=\"Lat\", y=\"Lon\", color=\"Type\",color_discrete_map={\n",
    "            \"Ignored\": \"grey\",\n",
    "            \"Prebuilt\": \"orange\",\n",
    "            \"Built Small\": \"lightgreen\",\n",
    "            \"Built Medium\": \"green\",\n",
    "            \"Built Large\": \"darkgreen\",\n",
    "            \"District\": \"blue\"}).data\n",
    "\n",
    "fig = go.Figure(data=t1)\n",
    "fig.show()\n",
    "pass"
   ]
  },
  {
   "cell_type": "code",
   "execution_count": null,
   "id": "4a204819",
   "metadata": {},
   "outputs": [],
   "source": []
  }
 ],
 "metadata": {
  "kernelspec": {
   "display_name": "Python 3 (ipykernel)",
   "language": "python",
   "name": "python3"
  },
  "language_info": {
   "codemirror_mode": {
    "name": "ipython",
    "version": 3
   },
   "file_extension": ".py",
   "mimetype": "text/x-python",
   "name": "python",
   "nbconvert_exporter": "python",
   "pygments_lexer": "ipython3",
   "version": "3.10.6"
  }
 },
 "nbformat": 4,
 "nbformat_minor": 5
}
